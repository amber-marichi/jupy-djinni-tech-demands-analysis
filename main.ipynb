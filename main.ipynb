{
 "cells": [
  {
   "attachments": {},
   "cell_type": "markdown",
   "metadata": {},
   "source": [
    "## Step 0: Importing libraries and functions\n"
   ]
  },
  {
   "cell_type": "code",
   "execution_count": null,
   "metadata": {},
   "outputs": [],
   "source": [
    "import pandas as pd\n",
    "from os import path\n",
    "from data_parser import parse_main\n",
    "from config import csv_folder_name\n"
   ]
  },
  {
   "attachments": {},
   "cell_type": "markdown",
   "metadata": {},
   "source": [
    "## Step 1: get csv file parsed from djinni\n"
   ]
  },
  {
   "cell_type": "code",
   "execution_count": null,
   "metadata": {},
   "outputs": [],
   "source": [
    "%run data_parser.py\n",
    "%autoawait asyncio\n",
    "\n",
    "csv_file_name = \"test_output.csv\"\n",
    "\n",
    "await parse_main(csv_file_name)\n"
   ]
  },
  {
   "attachments": {},
   "cell_type": "markdown",
   "metadata": {},
   "source": [
    "## Step 2: making dataframe from stored csv\n"
   ]
  },
  {
   "cell_type": "code",
   "execution_count": null,
   "metadata": {},
   "outputs": [],
   "source": [
    "years_limit = None\n",
    "\n",
    "df = pd.read_csv(path.join(csv_folder_name, csv_file_name))\n",
    "df[\"posted\"] = df[\"posted\"].astype(\"datetime64[ns]\")\n",
    "\n",
    "if years_limit is not None:\n",
    "    df = df[df[\"experience\"] <= years_limit]\n",
    "df.info()\n"
   ]
  }
 ],
 "metadata": {
  "language_info": {
   "name": "python"
  },
  "orig_nbformat": 4
 },
 "nbformat": 4,
 "nbformat_minor": 2
}
