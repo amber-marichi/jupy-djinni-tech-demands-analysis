{
 "cells": [
  {
   "attachments": {},
   "cell_type": "markdown",
   "metadata": {},
   "source": [
    "## Step 0: importing libraries and functions\n"
   ]
  },
  {
   "cell_type": "code",
   "execution_count": null,
   "metadata": {},
   "outputs": [],
   "source": [
    "import pandas as pd\n",
    "from os import path\n",
    "from config import CSV_FOLDER\n",
    "from data_parser import parse_main\n",
    "from data_processor import get_tech_count\n"
   ]
  },
  {
   "attachments": {},
   "cell_type": "markdown",
   "metadata": {},
   "source": [
    "## Step 1: getting csv file parsed from djinni\n",
    "    - by default parse_main parses job vacancies from djinni.co for \"python\"\n",
    "    - base url as well as language preset can be viewd and adjusted in config file\n",
    "    - csv_file_name variable to store filename, for example it can be date of data parsing for archiving\n",
    "    - after parsing is complete .csv file can found in folder \"parsed_results\"\n",
    "    - folder name can be adjusted by changing value of CSV_FOLDER in config file"
   ]
  },
  {
   "cell_type": "code",
   "execution_count": null,
   "metadata": {},
   "outputs": [],
   "source": [
    "%run data_parser.py\n",
    "%autoawait asyncio\n",
    "\n",
    "csv_file_name = \"test_output.csv\"\n",
    "\n",
    "await parse_main(csv_file_name)\n"
   ]
  },
  {
   "attachments": {},
   "cell_type": "markdown",
   "metadata": {},
   "source": [
    "## Step 2: making dataframe from stored csv\n",
    "\n",
    "    - pandas dataframe is building according to csv structure\n",
    "    - csv structure of file depends on dataclass and logic from data_parser file\n",
    "    - folder where csv files are stored depends on CSV_FOLDER variable from config\n",
    "    - after getting dataframe it can be filtered by date or by years_limit in demand\n",
    "    - change years_limit variable (numeric value) to set year filter for vacancies\n",
    "    \n"
   ]
  },
  {
   "cell_type": "code",
   "execution_count": null,
   "metadata": {},
   "outputs": [],
   "source": [
    "years_limit = None\n",
    "\n",
    "df = pd.read_csv(path.join(CSV_FOLDER, csv_file_name))\n",
    "df[\"posted\"] = df[\"posted\"].astype(\"datetime64[ns]\")\n",
    "\n",
    "if years_limit is not None:\n",
    "    df = df[df[\"experience\"] <= years_limit]\n",
    "df.info()\n"
   ]
  },
  {
   "attachments": {},
   "cell_type": "markdown",
   "metadata": {},
   "source": [
    "## Step 3: get most common tech names with count from dataframe\n",
    "\n",
    "    - we are getting count of techs in demand by combining descriptions from dataframe and getting most used keywords\n",
    "    - to configure what words shouldn't be in this list we can edit files in custom_stopwords folder\n",
    "    - since most of the jobs on djinni posted in english or ukrainian languages by default added EN and UA files\n",
    "    - new stop words can be added both by editing existing files or by adding new custom file\n",
    "    - in case when added new stopwords file its name sould be added to list in config file\n",
    "    - by editing STOP_WORDS_FILES list in config we can set which files will be read during select stopwords to use\n"
   ]
  },
  {
   "cell_type": "code",
   "execution_count": null,
   "metadata": {},
   "outputs": [],
   "source": [
    "%run data_processor.py\n",
    "\n",
    "text_combined = \" \".join(df[\"description\"])\n",
    "techs = get_tech_count(text_combined, 20)\n",
    "techs\n"
   ]
  },
  {
   "attachments": {},
   "cell_type": "markdown",
   "metadata": {},
   "source": [
    "## Step 4: building bar with statistics from tech count results\n",
    "\n",
    "    - plots will be build according to year limit we set before so this filter be present in title\n",
    "    - also we can adjust names for both columns we get from parsing techs\n"
   ]
  },
  {
   "cell_type": "code",
   "execution_count": null,
   "metadata": {},
   "outputs": [],
   "source": [
    "x_column = \"Technology\"\n",
    "y_column = \"Appearance\"\n",
    "\n",
    "tech_df = pd.DataFrame(techs, columns=[x_column, y_column])\n",
    "tech_df.plot.bar(\n",
    "    x=x_column,\n",
    "    y=y_column,\n",
    "    figsize=(13, 10),\n",
    "    title=(\n",
    "        \"Technologies in demand for python developer \"\n",
    "        f\"with filter set to {years_limit}\"\n",
    "    )\n",
    ")\n"
   ]
  }
 ],
 "metadata": {
  "language_info": {
   "name": "python"
  },
  "orig_nbformat": 4
 },
 "nbformat": 4,
 "nbformat_minor": 2
}
